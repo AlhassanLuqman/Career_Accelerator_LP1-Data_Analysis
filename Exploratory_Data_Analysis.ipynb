{
 "cells": [
  {
   "attachments": {},
   "cell_type": "markdown",
   "metadata": {},
   "source": [
    "# Introduction"
   ]
  },
  {
   "attachments": {},
   "cell_type": "markdown",
   "metadata": {},
   "source": [
    "As a data analyst tasked to analize the datasets provided (Indian Start-up Funding 2018-2021) and advice which sector is lucrative enough to invest into based on findings and conclusions drawn from the analysis. "
   ]
  },
  {
   "cell_type": "code",
   "execution_count": 1,
   "metadata": {},
   "outputs": [],
   "source": [
    "## Load appropriate modules\n",
    "import pandas as pd\n"
   ]
  },
  {
   "attachments": {},
   "cell_type": "markdown",
   "metadata": {},
   "source": [
    "Load all datasets"
   ]
  },
  {
   "cell_type": "code",
   "execution_count": 5,
   "metadata": {},
   "outputs": [],
   "source": [
    "df_2018 = pd.read_csv(\"./India Startup Funding/startup_funding2018.csv\")\n",
    "df_2019 = pd.read_csv(\"./India Startup Funding/startup_funding2019.csv\")\n",
    "df_2020 = pd.read_csv(\"./India Startup Funding/startup_funding2020.csv\")\n",
    "df_2021 = pd.read_csv(\"./India Startup Funding/startup_funding2021.csv\")"
   ]
  }
 ],
 "metadata": {
  "kernelspec": {
   "display_name": "Python 3",
   "language": "python",
   "name": "python3"
  },
  "language_info": {
   "codemirror_mode": {
    "name": "ipython",
    "version": 3
   },
   "file_extension": ".py",
   "mimetype": "text/x-python",
   "name": "python",
   "nbconvert_exporter": "python",
   "pygments_lexer": "ipython3",
   "version": "3.10.11"
  },
  "orig_nbformat": 4
 },
 "nbformat": 4,
 "nbformat_minor": 2
}
